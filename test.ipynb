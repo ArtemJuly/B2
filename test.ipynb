{
 "cells": [
  {
   "cell_type": "code",
   "execution_count": 9,
   "metadata": {},
   "outputs": [
    {
     "name": "stderr",
     "output_type": "stream",
     "text": [
      "/var/folders/q_/fz2ylcb14dqcs8bp2t8hjz6m0000gn/T/ipykernel_16312/174756893.py:2: DeprecationWarning: \n",
      "Pyarrow will become a required dependency of pandas in the next major release of pandas (pandas 3.0),\n",
      "(to allow more performant data types, such as the Arrow string type, and better interoperability with other libraries)\n",
      "but was not found to be installed on your system.\n",
      "If this would cause problems for you,\n",
      "please provide us feedback at https://github.com/pandas-dev/pandas/issues/54466\n",
      "        \n",
      "  import pandas as pd\n"
     ]
    }
   ],
   "source": [
    "from pybit.unified_trading import HTTP\n",
    "import pandas as pd"
   ]
  },
  {
   "cell_type": "code",
   "execution_count": 92,
   "metadata": {},
   "outputs": [],
   "source": [
    "def get_futures_name()->list:\n",
    "\n",
    "    \"\"\"Возвращает имена всех не эксперировавашихся срочных фьючерсов с биржи Байбит\"\"\"\n",
    "    session = HTTP(testnet=True)\n",
    "    all_tickers = (session.get_tickers(\n",
    "        category=\"linear\"\n",
    "    )) ### Хотелось бы оптимизировать вызов сессии\n",
    "    \n",
    "    dict_list = all_tickers.get('result').get('list')\n",
    "    futures_ticker_list = []\n",
    "\n",
    "    for dic in dict_list:\n",
    "        ticker = dic.get('symbol')\n",
    "        if ('-' in ticker):\n",
    "            futures_ticker_list.append(ticker)\n",
    "\n",
    "    return futures_ticker_list\n",
    "    \n"
   ]
  },
  {
   "cell_type": "code",
   "execution_count": 93,
   "metadata": {},
   "outputs": [
    {
     "data": {
      "text/plain": [
       "['BTC-02AUG24',\n",
       " 'BTC-09AUG24',\n",
       " 'BTC-26JUL24',\n",
       " 'BTC-27DEC24',\n",
       " 'BTC-27JUN25',\n",
       " 'BTC-27SEP24',\n",
       " 'BTC-28MAR25',\n",
       " 'BTC-30AUG24',\n",
       " 'ETH-02AUG24',\n",
       " 'ETH-09AUG24',\n",
       " 'ETH-26JUL24',\n",
       " 'ETH-27DEC24',\n",
       " 'ETH-27JUN25',\n",
       " 'ETH-27SEP24',\n",
       " 'ETH-28MAR25',\n",
       " 'ETH-30AUG24',\n",
       " 'SOL-02AUG24',\n",
       " 'SOL-09AUG24',\n",
       " 'SOL-26JUL24',\n",
       " 'SOL-30AUG24']"
      ]
     },
     "execution_count": 93,
     "metadata": {},
     "output_type": "execute_result"
    }
   ],
   "source": [
    "get_futures_name()"
   ]
  },
  {
   "cell_type": "code",
   "execution_count": 70,
   "metadata": {},
   "outputs": [
    {
     "name": "stdout",
     "output_type": "stream",
     "text": [
      "{'retCode': 0, 'retMsg': 'OK', 'result': {'s': 'BTCUSDT', 'b': [['62763.2', '41.542'], ['62763', '54.983'], ['62762.8', '80.878'], ['62762.6', '78.95'], ['62762.4', '111.347'], ['62762.2', '45.765'], ['62762', '86.176'], ['62761.8', '56.05'], ['62761.6', '49.889'], ['62761.4', '102.719'], ['62761.2', '67.376'], ['62760.9', '64.116'], ['62760.7', '51.506'], ['62760.5', '61.441'], ['62760.4', '50.325'], ['62760.3', '57.753'], ['62760.1', '91.862'], ['62759.9', '99.113'], ['62759.7', '64.793'], ['62759.5', '64.633'], ['62759.3', '44.917'], ['62715.1', '0.005'], ['62706.6', '0.001'], ['62703.1', '0.003'], ['62702.5', '0.002']], 'a': [['62763.6', '38.292'], ['62763.7', '54.266'], ['62763.9', '68.236'], ['62764', '24.243'], ['62764.1', '89.271'], ['62764.3', '65.445'], ['62764.5', '117.57'], ['62764.6', '48.218'], ['62764.7', '46.529'], ['62764.9', '73.629'], ['62765.1', '78.472'], ['62765.3', '73.674'], ['62765.5', '64.511'], ['62765.7', '88.735'], ['62765.9', '73.823'], ['62766.1', '97.218'], ['62766.3', '60.325'], ['62766.4', '8.231'], ['62766.5', '42.202'], ['62766.7', '92.249'], ['62766.8', '37.22'], ['62766.9', '69.146'], ['62767', '36.699'], ['62767.1', '73.199'], ['62767.3', '66.632']], 'ts': 1721036655141, 'u': 1742049, 'seq': 9330618085, 'cts': 1721036655054}, 'retExtInfo': {}, 'time': 1721036656207}\n"
     ]
    }
   ],
   "source": [
    "from pybit.unified_trading import HTTP\n",
    "session = HTTP(testnet=True)\n",
    "\n",
    "print(session.get_orderbook(\n",
    "    category=\"linear\",\n",
    "    symbol=\"BTCUSDT\",\n",
    "))"
   ]
  },
  {
   "cell_type": "code",
   "execution_count": 115,
   "metadata": {},
   "outputs": [],
   "source": [
    "def get_size_price(symbol:str, side:str, order:float) -> list[float]:\n",
    "    if (side != \"b\") | (side != \"a\"):\n",
    "        return TypeError, print(\"Косяк в направлении сделки\")\n",
    "    \n",
    "    orderbook = session.get_orderbook(\n",
    "        category=\"linear\",\n",
    "        symbol=symbol,)\n",
    "        \n",
    "        # Рабочий вариант\n",
    "    in_order = order\n",
    "    resid_order = in_order\n",
    "\n",
    "    orerbook_side = orderbook.get('result')[side]\n",
    "    order_price = 0\n",
    "\n",
    "    for i in range(len(orerbook_side)):\n",
    "\n",
    "        # Данные стакана\n",
    "        price = float(orerbook_side[i][0])\n",
    "        volume = float(orerbook_side[i][1])\n",
    "\n",
    "        size = price * volume\n",
    "        resid_order -= size\n",
    "\n",
    "        if resid_order<0:\n",
    "            order_price += price * (size+resid_order)/ in_order \n",
    "            break\n",
    "\n",
    "        order_price += price * size/ in_order\n",
    "\n",
    "    return order_price\n",
    "\n",
    "\n",
    "\n"
   ]
  },
  {
   "cell_type": "code",
   "execution_count": null,
   "metadata": {},
   "outputs": [],
   "source": [
    "get_size_price(\"BTC-02AUG24\")"
   ]
  },
  {
   "cell_type": "code",
   "execution_count": 94,
   "metadata": {},
   "outputs": [],
   "source": [
    "orderbook = session.get_orderbook(\n",
    "    category=\"linear\",\n",
    "    symbol=\"BTC-02AUG24\",)"
   ]
  },
  {
   "cell_type": "code",
   "execution_count": 113,
   "metadata": {},
   "outputs": [
    {
     "data": {
      "text/plain": [
       "66271.23498617501"
      ]
     },
     "execution_count": 113,
     "metadata": {},
     "output_type": "execute_result"
    }
   ],
   "source": [
    "# Рабочий вариант\n",
    "in_order = 20000\n",
    "resid_order = in_order\n",
    "\n",
    "buy_side = orderbook.get('result')[\"b\"]\n",
    "order_price = 0\n",
    "\n",
    "for i in range(len(buy_side)):\n",
    "\n",
    "    # Данные стакана\n",
    "    price = float(buy_side[i][0])\n",
    "    volume = float(buy_side[i][1])\n",
    "\n",
    "    size = price * volume\n",
    "    resid_order -= size\n",
    "\n",
    "    if resid_order<0:\n",
    "        order_price += price * (size+resid_order)/ in_order \n",
    "        break\n",
    "\n",
    "    order_price += price * size/ in_order\n",
    "\n",
    "order_price\n"
   ]
  },
  {
   "cell_type": "code",
   "execution_count": 88,
   "metadata": {},
   "outputs": [
    {
     "data": {
      "text/plain": [
       "['62826', '0.054']"
      ]
     },
     "execution_count": 88,
     "metadata": {},
     "output_type": "execute_result"
    }
   ],
   "source": [
    "size = 5000\n",
    "\n",
    "btc_b[0]\n",
    "\n"
   ]
  },
  {
   "cell_type": "code",
   "execution_count": 87,
   "metadata": {},
   "outputs": [
    {
     "data": {
      "text/plain": [
       "3392.604"
      ]
     },
     "execution_count": 87,
     "metadata": {},
     "output_type": "execute_result"
    }
   ],
   "source": [
    "\n",
    "size - float(btc_b[0][0]) * float(btc_b[0][1])"
   ]
  },
  {
   "cell_type": "code",
   "execution_count": 89,
   "metadata": {},
   "outputs": [
    {
     "data": {
      "text/plain": [
       "9423.75"
      ]
     },
     "execution_count": 89,
     "metadata": {},
     "output_type": "execute_result"
    }
   ],
   "source": [
    "float(btc_b[1][0]) * float(btc_b[1][1])"
   ]
  },
  {
   "cell_type": "code",
   "execution_count": null,
   "metadata": {},
   "outputs": [],
   "source": []
  }
 ],
 "metadata": {
  "kernelspec": {
   "display_name": "Python 3",
   "language": "python",
   "name": "python3"
  },
  "language_info": {
   "codemirror_mode": {
    "name": "ipython",
    "version": 3
   },
   "file_extension": ".py",
   "mimetype": "text/x-python",
   "name": "python",
   "nbconvert_exporter": "python",
   "pygments_lexer": "ipython3",
   "version": "3.10.2"
  }
 },
 "nbformat": 4,
 "nbformat_minor": 2
}
